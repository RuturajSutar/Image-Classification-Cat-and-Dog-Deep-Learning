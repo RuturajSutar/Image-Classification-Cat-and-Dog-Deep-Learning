{
 "cells": [
  {
   "cell_type": "code",
   "execution_count": 1,
   "metadata": {},
   "outputs": [
    {
     "name": "stderr",
     "output_type": "stream",
     "text": [
      "Using TensorFlow backend.\n"
     ]
    }
   ],
   "source": [
    "from keras.models import Sequential\n",
    "from keras.layers import Convolution2D\n",
    "from keras.layers import MaxPooling2D\n",
    "from keras.layers import Flatten\n",
    "from keras.layers import Dense\n",
    "from keras.layers import Dropout"
   ]
  },
  {
   "cell_type": "code",
   "execution_count": null,
   "metadata": {},
   "outputs": [],
   "source": []
  },
  {
   "cell_type": "code",
   "execution_count": 2,
   "metadata": {},
   "outputs": [],
   "source": [
    "classifier = Sequential()"
   ]
  },
  {
   "cell_type": "code",
   "execution_count": 3,
   "metadata": {},
   "outputs": [],
   "source": [
    "classifier.add(Convolution2D(64 , (3 , 3) , input_shape = (150 , 150 , 3) , activation = 'relu'))"
   ]
  },
  {
   "cell_type": "code",
   "execution_count": 4,
   "metadata": {},
   "outputs": [],
   "source": [
    "classifier.add(MaxPooling2D(pool_size = (2 , 2)))"
   ]
  },
  {
   "cell_type": "code",
   "execution_count": 5,
   "metadata": {},
   "outputs": [],
   "source": [
    "classifier.add(Convolution2D(64 , (3 , 3) , activation = 'relu'))"
   ]
  },
  {
   "cell_type": "code",
   "execution_count": 6,
   "metadata": {},
   "outputs": [],
   "source": [
    "classifier.add(MaxPooling2D(pool_size = (2 , 2)))"
   ]
  },
  {
   "cell_type": "code",
   "execution_count": 7,
   "metadata": {},
   "outputs": [],
   "source": [
    "classifier.add(Convolution2D(64 , (3 , 3) , activation = 'relu'))"
   ]
  },
  {
   "cell_type": "code",
   "execution_count": 8,
   "metadata": {},
   "outputs": [],
   "source": [
    "classifier.add(MaxPooling2D(pool_size = (2 , 2)))"
   ]
  },
  {
   "cell_type": "code",
   "execution_count": 9,
   "metadata": {},
   "outputs": [],
   "source": [
    "classifier.add(Convolution2D(64 , (3 , 3) , activation = 'relu'))"
   ]
  },
  {
   "cell_type": "code",
   "execution_count": 10,
   "metadata": {},
   "outputs": [],
   "source": [
    "classifier.add(MaxPooling2D(pool_size = (2 , 2)))"
   ]
  },
  {
   "cell_type": "code",
   "execution_count": 11,
   "metadata": {},
   "outputs": [],
   "source": [
    "classifier.add(Flatten())"
   ]
  },
  {
   "cell_type": "code",
   "execution_count": 12,
   "metadata": {},
   "outputs": [],
   "source": [
    "classifier.add(Dense(units = 150 , activation = 'relu'))"
   ]
  },
  {
   "cell_type": "code",
   "execution_count": 13,
   "metadata": {},
   "outputs": [],
   "source": [
    "classifier.add(Dropout(rate = 0.3))"
   ]
  },
  {
   "cell_type": "code",
   "execution_count": 14,
   "metadata": {},
   "outputs": [],
   "source": [
    "classifier.add(Dense(units = 150 , activation = 'relu'))"
   ]
  },
  {
   "cell_type": "code",
   "execution_count": 15,
   "metadata": {},
   "outputs": [],
   "source": [
    "classifier.add(Dropout(rate = 0.2))"
   ]
  },
  {
   "cell_type": "code",
   "execution_count": 16,
   "metadata": {},
   "outputs": [],
   "source": [
    "classifier.add(Dense(units = 1 , activation = 'sigmoid'))"
   ]
  },
  {
   "cell_type": "code",
   "execution_count": 17,
   "metadata": {},
   "outputs": [],
   "source": [
    "classifier.compile(optimizer = 'adam' , loss = 'binary_crossentropy' , metrics = ['accuracy'])"
   ]
  },
  {
   "cell_type": "code",
   "execution_count": 18,
   "metadata": {},
   "outputs": [],
   "source": [
    "from keras.preprocessing.image import ImageDataGenerator"
   ]
  },
  {
   "cell_type": "code",
   "execution_count": 19,
   "metadata": {},
   "outputs": [],
   "source": [
    "train_datagen = ImageDataGenerator(\n",
    "        rescale=1./255,\n",
    "        shear_range=0.2,\n",
    "        zoom_range=0.2,\n",
    "        horizontal_flip=True)"
   ]
  },
  {
   "cell_type": "code",
   "execution_count": 20,
   "metadata": {},
   "outputs": [],
   "source": [
    "test_datagen = ImageDataGenerator(rescale=1./255)"
   ]
  },
  {
   "cell_type": "code",
   "execution_count": 21,
   "metadata": {},
   "outputs": [
    {
     "name": "stdout",
     "output_type": "stream",
     "text": [
      "Found 8000 images belonging to 2 classes.\n"
     ]
    }
   ],
   "source": [
    "training_set = train_datagen.flow_from_directory(\n",
    "        'dataset/training_set',\n",
    "        target_size=(150, 150),\n",
    "        batch_size=32,\n",
    "        class_mode='binary')"
   ]
  },
  {
   "cell_type": "code",
   "execution_count": 22,
   "metadata": {},
   "outputs": [
    {
     "name": "stdout",
     "output_type": "stream",
     "text": [
      "Found 2000 images belonging to 2 classes.\n"
     ]
    }
   ],
   "source": [
    "test_set = test_datagen.flow_from_directory(\n",
    "        'dataset/test_set',\n",
    "        target_size=(150, 150),\n",
    "        batch_size=32,\n",
    "        class_mode='binary')"
   ]
  },
  {
   "cell_type": "code",
   "execution_count": 23,
   "metadata": {},
   "outputs": [
    {
     "name": "stdout",
     "output_type": "stream",
     "text": [
      "Epoch 1/90\n",
      "250/250 [==============================] - 210s 840ms/step - loss: 0.6841 - accuracy: 0.5465 - val_loss: 0.7085 - val_accuracy: 0.5860\n",
      "Epoch 2/90\n",
      "250/250 [==============================] - 209s 835ms/step - loss: 0.6363 - accuracy: 0.6430 - val_loss: 0.6995 - val_accuracy: 0.6485\n",
      "Epoch 3/90\n",
      "250/250 [==============================] - 208s 833ms/step - loss: 0.5951 - accuracy: 0.6851 - val_loss: 0.7360 - val_accuracy: 0.7030\n",
      "Epoch 4/90\n",
      "250/250 [==============================] - 209s 834ms/step - loss: 0.5501 - accuracy: 0.7221 - val_loss: 0.4125 - val_accuracy: 0.7190\n",
      "Epoch 5/90\n",
      "250/250 [==============================] - 208s 833ms/step - loss: 0.5036 - accuracy: 0.7533 - val_loss: 0.5734 - val_accuracy: 0.7720\n",
      "Epoch 6/90\n",
      "250/250 [==============================] - 208s 834ms/step - loss: 0.4661 - accuracy: 0.7804 - val_loss: 0.3257 - val_accuracy: 0.8025\n",
      "Epoch 7/90\n",
      "250/250 [==============================] - 209s 835ms/step - loss: 0.4362 - accuracy: 0.7984 - val_loss: 0.7023 - val_accuracy: 0.8230\n",
      "Epoch 8/90\n",
      "250/250 [==============================] - 210s 839ms/step - loss: 0.4250 - accuracy: 0.8048 - val_loss: 0.4324 - val_accuracy: 0.8050\n",
      "Epoch 9/90\n",
      "250/250 [==============================] - 209s 834ms/step - loss: 0.4065 - accuracy: 0.8136 - val_loss: 0.6760 - val_accuracy: 0.7955\n",
      "Epoch 10/90\n",
      "250/250 [==============================] - 209s 835ms/step - loss: 0.3812 - accuracy: 0.8278 - val_loss: 0.4019 - val_accuracy: 0.8365\n",
      "Epoch 11/90\n",
      "250/250 [==============================] - 209s 835ms/step - loss: 0.3574 - accuracy: 0.8414 - val_loss: 0.3891 - val_accuracy: 0.8405\n",
      "Epoch 12/90\n",
      "250/250 [==============================] - 209s 836ms/step - loss: 0.3351 - accuracy: 0.8539 - val_loss: 0.2009 - val_accuracy: 0.8455\n",
      "Epoch 13/90\n",
      "250/250 [==============================] - 209s 836ms/step - loss: 0.3211 - accuracy: 0.8601 - val_loss: 0.1349 - val_accuracy: 0.8660\n",
      "Epoch 14/90\n",
      "250/250 [==============================] - 209s 835ms/step - loss: 0.2924 - accuracy: 0.8740 - val_loss: 0.4453 - val_accuracy: 0.8395\n",
      "Epoch 15/90\n",
      "250/250 [==============================] - 208s 833ms/step - loss: 0.2765 - accuracy: 0.8801 - val_loss: 0.3102 - val_accuracy: 0.8560\n",
      "Epoch 16/90\n",
      "250/250 [==============================] - 209s 835ms/step - loss: 0.2686 - accuracy: 0.8866 - val_loss: 0.1803 - val_accuracy: 0.8695\n",
      "Epoch 17/90\n",
      "250/250 [==============================] - 209s 835ms/step - loss: 0.2699 - accuracy: 0.8834 - val_loss: 1.1569 - val_accuracy: 0.8685\n",
      "Epoch 18/90\n",
      "250/250 [==============================] - 209s 835ms/step - loss: 0.2519 - accuracy: 0.8894 - val_loss: 0.4199 - val_accuracy: 0.8725\n",
      "Epoch 19/90\n",
      "250/250 [==============================] - 209s 835ms/step - loss: 0.2398 - accuracy: 0.8984 - val_loss: 0.3063 - val_accuracy: 0.8745\n",
      "Epoch 20/90\n",
      "250/250 [==============================] - 208s 833ms/step - loss: 0.2227 - accuracy: 0.9066 - val_loss: 0.2301 - val_accuracy: 0.8705\n",
      "Epoch 21/90\n",
      "250/250 [==============================] - 209s 834ms/step - loss: 0.2118 - accuracy: 0.9128 - val_loss: 0.2758 - val_accuracy: 0.8795\n",
      "Epoch 22/90\n",
      "250/250 [==============================] - 208s 832ms/step - loss: 0.2142 - accuracy: 0.9131 - val_loss: 0.2318 - val_accuracy: 0.8835\n",
      "Epoch 23/90\n",
      "250/250 [==============================] - 208s 831ms/step - loss: 0.1986 - accuracy: 0.9178 - val_loss: 0.1296 - val_accuracy: 0.8865\n",
      "Epoch 24/90\n",
      "250/250 [==============================] - 208s 831ms/step - loss: 0.1752 - accuracy: 0.9293 - val_loss: 0.0399 - val_accuracy: 0.8950\n",
      "Epoch 25/90\n",
      "250/250 [==============================] - 212s 846ms/step - loss: 0.1937 - accuracy: 0.9220 - val_loss: 0.3246 - val_accuracy: 0.8810\n",
      "Epoch 26/90\n",
      "250/250 [==============================] - 210s 841ms/step - loss: 0.1735 - accuracy: 0.9285 - val_loss: 0.3601 - val_accuracy: 0.8845\n",
      "Epoch 27/90\n",
      "250/250 [==============================] - 210s 841ms/step - loss: 0.1819 - accuracy: 0.9256 - val_loss: 0.1745 - val_accuracy: 0.8865\n",
      "Epoch 28/90\n",
      "250/250 [==============================] - 211s 842ms/step - loss: 0.1609 - accuracy: 0.9365 - val_loss: 0.6000 - val_accuracy: 0.8900\n",
      "Epoch 29/90\n",
      "250/250 [==============================] - 210s 842ms/step - loss: 0.1673 - accuracy: 0.9331 - val_loss: 0.0165 - val_accuracy: 0.8875\n",
      "Epoch 30/90\n",
      "250/250 [==============================] - 211s 843ms/step - loss: 0.1568 - accuracy: 0.9359 - val_loss: 0.5696 - val_accuracy: 0.8965\n",
      "Epoch 31/90\n",
      "250/250 [==============================] - 209s 837ms/step - loss: 0.1488 - accuracy: 0.9402 - val_loss: 0.7483 - val_accuracy: 0.8840\n",
      "Epoch 32/90\n",
      "250/250 [==============================] - 209s 838ms/step - loss: 0.1457 - accuracy: 0.9413 - val_loss: 0.3190 - val_accuracy: 0.8975\n",
      "Epoch 33/90\n",
      "250/250 [==============================] - 209s 838ms/step - loss: 0.1500 - accuracy: 0.9379 - val_loss: 0.4484 - val_accuracy: 0.8965\n",
      "Epoch 34/90\n",
      "250/250 [==============================] - 212s 849ms/step - loss: 0.1342 - accuracy: 0.9466 - val_loss: 0.2121 - val_accuracy: 0.8970\n",
      "Epoch 35/90\n",
      "250/250 [==============================] - 211s 843ms/step - loss: 0.1318 - accuracy: 0.9479 - val_loss: 0.1393 - val_accuracy: 0.8840\n",
      "Epoch 36/90\n",
      "250/250 [==============================] - 209s 837ms/step - loss: 0.1334 - accuracy: 0.9474 - val_loss: 0.1236 - val_accuracy: 0.8935\n",
      "Epoch 37/90\n",
      "250/250 [==============================] - 211s 843ms/step - loss: 0.1247 - accuracy: 0.9501 - val_loss: 0.2602 - val_accuracy: 0.8840\n",
      "Epoch 38/90\n",
      "250/250 [==============================] - 211s 846ms/step - loss: 0.1324 - accuracy: 0.9452 - val_loss: 0.1058 - val_accuracy: 0.8925\n",
      "Epoch 39/90\n",
      "250/250 [==============================] - 211s 843ms/step - loss: 0.1213 - accuracy: 0.9516 - val_loss: 0.8432 - val_accuracy: 0.8975\n",
      "Epoch 40/90\n",
      "250/250 [==============================] - 211s 843ms/step - loss: 0.1185 - accuracy: 0.9549 - val_loss: 0.2545 - val_accuracy: 0.9005\n",
      "Epoch 41/90\n",
      "250/250 [==============================] - 211s 843ms/step - loss: 0.1208 - accuracy: 0.9529 - val_loss: 0.0815 - val_accuracy: 0.8970\n",
      "Epoch 42/90\n",
      "250/250 [==============================] - 212s 849ms/step - loss: 0.1135 - accuracy: 0.9560 - val_loss: 0.8074 - val_accuracy: 0.8965\n",
      "Epoch 43/90\n",
      "250/250 [==============================] - 210s 841ms/step - loss: 0.1175 - accuracy: 0.9545 - val_loss: 0.8111 - val_accuracy: 0.8810\n",
      "Epoch 44/90\n",
      "250/250 [==============================] - 211s 843ms/step - loss: 0.1075 - accuracy: 0.9575 - val_loss: 0.1684 - val_accuracy: 0.8995\n",
      "Epoch 45/90\n",
      "250/250 [==============================] - 211s 842ms/step - loss: 0.1086 - accuracy: 0.9563 - val_loss: 0.1672 - val_accuracy: 0.8880\n",
      "Epoch 46/90\n",
      "250/250 [==============================] - 212s 847ms/step - loss: 0.1188 - accuracy: 0.9551 - val_loss: 0.0867 - val_accuracy: 0.8975\n",
      "Epoch 47/90\n",
      "250/250 [==============================] - 211s 843ms/step - loss: 0.0983 - accuracy: 0.9594 - val_loss: 0.1198 - val_accuracy: 0.9010\n",
      "Epoch 48/90\n",
      "250/250 [==============================] - 211s 843ms/step - loss: 0.1021 - accuracy: 0.9617 - val_loss: 0.3583 - val_accuracy: 0.8965\n",
      "Epoch 49/90\n",
      "250/250 [==============================] - 211s 845ms/step - loss: 0.0987 - accuracy: 0.9611 - val_loss: 0.2540 - val_accuracy: 0.8875\n",
      "Epoch 50/90\n",
      "250/250 [==============================] - 211s 845ms/step - loss: 0.0919 - accuracy: 0.9654 - val_loss: 0.3046 - val_accuracy: 0.8995\n",
      "Epoch 51/90\n",
      "250/250 [==============================] - 211s 845ms/step - loss: 0.0955 - accuracy: 0.9631 - val_loss: 0.0251 - val_accuracy: 0.9025\n",
      "Epoch 52/90\n",
      "250/250 [==============================] - 210s 841ms/step - loss: 0.1073 - accuracy: 0.9592 - val_loss: 0.5589 - val_accuracy: 0.9025\n",
      "Epoch 53/90\n",
      "250/250 [==============================] - 211s 843ms/step - loss: 0.0903 - accuracy: 0.9643 - val_loss: 0.1438 - val_accuracy: 0.9060\n",
      "Epoch 54/90\n",
      "250/250 [==============================] - 211s 843ms/step - loss: 0.0836 - accuracy: 0.9678 - val_loss: 0.0447 - val_accuracy: 0.9065\n",
      "Epoch 55/90\n",
      "250/250 [==============================] - 211s 842ms/step - loss: 0.0862 - accuracy: 0.9675 - val_loss: 0.1100 - val_accuracy: 0.9015\n",
      "Epoch 56/90\n",
      "250/250 [==============================] - 211s 842ms/step - loss: 0.0911 - accuracy: 0.9645 - val_loss: 0.0791 - val_accuracy: 0.8945\n"
     ]
    },
    {
     "name": "stdout",
     "output_type": "stream",
     "text": [
      "Epoch 57/90\n",
      "250/250 [==============================] - 210s 838ms/step - loss: 0.0909 - accuracy: 0.9659 - val_loss: 0.7893 - val_accuracy: 0.9010\n",
      "Epoch 58/90\n",
      "250/250 [==============================] - 210s 840ms/step - loss: 0.0872 - accuracy: 0.9680 - val_loss: 0.7875 - val_accuracy: 0.8980\n",
      "Epoch 59/90\n",
      "250/250 [==============================] - 211s 846ms/step - loss: 0.0775 - accuracy: 0.9684 - val_loss: 0.8174 - val_accuracy: 0.9070\n",
      "Epoch 60/90\n",
      "250/250 [==============================] - 210s 842ms/step - loss: 0.0860 - accuracy: 0.9675 - val_loss: 0.1429 - val_accuracy: 0.9015\n",
      "Epoch 61/90\n",
      "250/250 [==============================] - 210s 840ms/step - loss: 0.0821 - accuracy: 0.9690 - val_loss: 0.0464 - val_accuracy: 0.8980\n",
      "Epoch 62/90\n",
      "250/250 [==============================] - 210s 839ms/step - loss: 0.0768 - accuracy: 0.9720 - val_loss: 0.3523 - val_accuracy: 0.9075\n",
      "Epoch 63/90\n",
      "250/250 [==============================] - 210s 839ms/step - loss: 0.0795 - accuracy: 0.9704 - val_loss: 0.2794 - val_accuracy: 0.9010\n",
      "Epoch 64/90\n",
      "250/250 [==============================] - 210s 841ms/step - loss: 0.0729 - accuracy: 0.9732 - val_loss: 2.2673 - val_accuracy: 0.9030\n",
      "Epoch 65/90\n",
      "250/250 [==============================] - 210s 840ms/step - loss: 0.0723 - accuracy: 0.9739 - val_loss: 0.4241 - val_accuracy: 0.9085\n",
      "Epoch 66/90\n",
      "250/250 [==============================] - 210s 839ms/step - loss: 0.0697 - accuracy: 0.9750 - val_loss: 0.0011 - val_accuracy: 0.8960\n",
      "Epoch 67/90\n",
      "250/250 [==============================] - 210s 841ms/step - loss: 0.0821 - accuracy: 0.9686 - val_loss: 0.0798 - val_accuracy: 0.8965\n",
      "Epoch 68/90\n",
      "250/250 [==============================] - 211s 844ms/step - loss: 0.0665 - accuracy: 0.9756 - val_loss: 0.5474 - val_accuracy: 0.8865\n",
      "Epoch 69/90\n",
      "250/250 [==============================] - 214s 856ms/step - loss: 0.0701 - accuracy: 0.9746 - val_loss: 0.0038 - val_accuracy: 0.8950\n",
      "Epoch 70/90\n",
      "250/250 [==============================] - 210s 840ms/step - loss: 0.0748 - accuracy: 0.9720 - val_loss: 0.4572 - val_accuracy: 0.8990\n",
      "Epoch 71/90\n",
      "250/250 [==============================] - 211s 844ms/step - loss: 0.0662 - accuracy: 0.9743 - val_loss: 0.5549 - val_accuracy: 0.9050\n",
      "Epoch 72/90\n",
      "250/250 [==============================] - 211s 844ms/step - loss: 0.0719 - accuracy: 0.9746 - val_loss: 0.3438 - val_accuracy: 0.9045\n",
      "Epoch 73/90\n",
      "250/250 [==============================] - 211s 842ms/step - loss: 0.0677 - accuracy: 0.9750 - val_loss: 0.3037 - val_accuracy: 0.9020\n",
      "Epoch 74/90\n",
      "250/250 [==============================] - 211s 843ms/step - loss: 0.0637 - accuracy: 0.9780 - val_loss: 0.2307 - val_accuracy: 0.9080\n",
      "Epoch 75/90\n",
      "250/250 [==============================] - 211s 842ms/step - loss: 0.0622 - accuracy: 0.9765 - val_loss: 2.7986 - val_accuracy: 0.9025\n",
      "Epoch 76/90\n",
      "250/250 [==============================] - 211s 845ms/step - loss: 0.0644 - accuracy: 0.9765 - val_loss: 1.2646 - val_accuracy: 0.9060\n",
      "Epoch 77/90\n",
      "250/250 [==============================] - 214s 856ms/step - loss: 0.0669 - accuracy: 0.9746 - val_loss: 0.2192 - val_accuracy: 0.9025\n",
      "Epoch 78/90\n",
      "250/250 [==============================] - 214s 858ms/step - loss: 0.0612 - accuracy: 0.9771 - val_loss: 0.3259 - val_accuracy: 0.9110\n",
      "Epoch 79/90\n",
      "250/250 [==============================] - 210s 841ms/step - loss: 0.0621 - accuracy: 0.9764 - val_loss: 3.7010 - val_accuracy: 0.8970\n",
      "Epoch 80/90\n",
      "250/250 [==============================] - 209s 837ms/step - loss: 0.0657 - accuracy: 0.9758 - val_loss: 1.0511 - val_accuracy: 0.9105\n",
      "Epoch 81/90\n",
      "250/250 [==============================] - 209s 836ms/step - loss: 0.0539 - accuracy: 0.9806 - val_loss: 0.2327 - val_accuracy: 0.9100\n",
      "Epoch 82/90\n",
      "250/250 [==============================] - 209s 835ms/step - loss: 0.0571 - accuracy: 0.9801 - val_loss: 0.2136 - val_accuracy: 0.9015\n",
      "Epoch 83/90\n",
      "250/250 [==============================] - 209s 835ms/step - loss: 0.0638 - accuracy: 0.9781 - val_loss: 0.2823 - val_accuracy: 0.9090\n",
      "Epoch 84/90\n",
      "250/250 [==============================] - 209s 834ms/step - loss: 0.0572 - accuracy: 0.9805 - val_loss: 0.0093 - val_accuracy: 0.9070\n",
      "Epoch 85/90\n",
      "250/250 [==============================] - 210s 840ms/step - loss: 0.0569 - accuracy: 0.9805 - val_loss: 0.2353 - val_accuracy: 0.9025\n",
      "Epoch 86/90\n",
      "250/250 [==============================] - 209s 834ms/step - loss: 0.0651 - accuracy: 0.9768 - val_loss: 0.0409 - val_accuracy: 0.9120\n",
      "Epoch 87/90\n",
      "250/250 [==============================] - 209s 835ms/step - loss: 0.0572 - accuracy: 0.9781 - val_loss: 0.0953 - val_accuracy: 0.9250\n",
      "Epoch 88/90\n",
      "250/250 [==============================] - 209s 834ms/step - loss: 0.0595 - accuracy: 0.9774 - val_loss: 0.4249 - val_accuracy: 0.9085\n",
      "Epoch 89/90\n",
      "250/250 [==============================] - 209s 836ms/step - loss: 0.0649 - accuracy: 0.9765 - val_loss: 0.0852 - val_accuracy: 0.9165\n",
      "Epoch 90/90\n",
      "250/250 [==============================] - 209s 835ms/step - loss: 0.0561 - accuracy: 0.9795 - val_loss: 0.4343 - val_accuracy: 0.9030\n"
     ]
    },
    {
     "data": {
      "text/plain": [
       "<keras.callbacks.callbacks.History at 0x1ae3565bc88>"
      ]
     },
     "execution_count": 23,
     "metadata": {},
     "output_type": "execute_result"
    }
   ],
   "source": [
    "classifier.fit_generator(\n",
    "        training_set,\n",
    "        steps_per_epoch=8000/32,\n",
    "        epochs=90,\n",
    "        validation_data=test_set,\n",
    "        validation_steps=2000/32)"
   ]
  },
  {
   "cell_type": "code",
   "execution_count": 24,
   "metadata": {},
   "outputs": [],
   "source": [
    "from keras.preprocessing import image\n"
   ]
  },
  {
   "cell_type": "code",
   "execution_count": 25,
   "metadata": {},
   "outputs": [],
   "source": [
    "import numpy as np"
   ]
  },
  {
   "cell_type": "code",
   "execution_count": 46,
   "metadata": {},
   "outputs": [],
   "source": [
    "test_image = image.load_img('dataset/test_image/c3.jpg' , target_size=(150 , 150))"
   ]
  },
  {
   "cell_type": "code",
   "execution_count": 47,
   "metadata": {},
   "outputs": [
    {
     "data": {
      "image/png": "[encoded data removed]",
      "text/plain": [
       "<PIL.Image.Image image mode=RGB size=150x150 at 0x1AE35418388>"
      ]
     },
     "execution_count": 47,
     "metadata": {},
     "output_type": "execute_result"
    }
   ],
   "source": [
    "test_image"
   ]
  },
  {
   "cell_type": "code",
   "execution_count": 48,
   "metadata": {},
   "outputs": [],
   "source": [
    "test_image = image.img_to_array(test_image)"
   ]
  },
  {
   "cell_type": "code",
   "execution_count": 49,
   "metadata": {},
   "outputs": [
    {
     "data": {
      "text/plain": [
       "array([[[255., 255., 255.],\n",
       "        [255., 255., 255.],\n",
       "        [255., 254., 252.],\n",
       "        ...,\n",
       "        [177., 179., 191.],\n",
       "        [170., 177., 193.],\n",
       "        [243., 250., 255.]],\n",
       "\n",
       "       [[255., 255., 255.],\n",
       "        [255., 255., 255.],\n",
       "        [255., 254., 255.],\n",
       "        ...,\n",
       "        [176., 180., 191.],\n",
       "        [189., 196., 212.],\n",
       "        [254., 255., 255.]],\n",
       "\n",
       "       [[255., 255., 255.],\n",
       "        [255., 255., 255.],\n",
       "        [255., 255., 255.],\n",
       "        ...,\n",
       "        [178., 184., 196.],\n",
       "        [252., 255., 255.],\n",
       "        [255., 255., 255.]],\n",
       "\n",
       "       ...,\n",
       "\n",
       "       [[197., 207., 232.],\n",
       "        [195., 206., 228.],\n",
       "        [188., 199., 221.],\n",
       "        ...,\n",
       "        [163., 163., 153.],\n",
       "        [166., 165., 147.],\n",
       "        [159., 154., 132.]],\n",
       "\n",
       "       [[206., 213., 232.],\n",
       "        [157., 165., 186.],\n",
       "        [191., 203., 225.],\n",
       "        ...,\n",
       "        [149., 144., 124.],\n",
       "        [153., 148., 119.],\n",
       "        [152., 143., 114.]],\n",
       "\n",
       "       [[201., 212., 232.],\n",
       "        [198., 209., 229.],\n",
       "        [205., 216., 236.],\n",
       "        ...,\n",
       "        [140., 128., 104.],\n",
       "        [146., 137., 108.],\n",
       "        [152., 135., 107.]]], dtype=float32)"
      ]
     },
     "execution_count": 49,
     "metadata": {},
     "output_type": "execute_result"
    }
   ],
   "source": [
    "test_image"
   ]
  },
  {
   "cell_type": "code",
   "execution_count": 50,
   "metadata": {},
   "outputs": [],
   "source": [
    "test_image = np.expand_dims(test_image , axis=0)"
   ]
  },
  {
   "cell_type": "code",
   "execution_count": 51,
   "metadata": {},
   "outputs": [
    {
     "data": {
      "text/plain": [
       "array([[[[255., 255., 255.],\n",
       "         [255., 255., 255.],\n",
       "         [255., 254., 252.],\n",
       "         ...,\n",
       "         [177., 179., 191.],\n",
       "         [170., 177., 193.],\n",
       "         [243., 250., 255.]],\n",
       "\n",
       "        [[255., 255., 255.],\n",
       "         [255., 255., 255.],\n",
       "         [255., 254., 255.],\n",
       "         ...,\n",
       "         [176., 180., 191.],\n",
       "         [189., 196., 212.],\n",
       "         [254., 255., 255.]],\n",
       "\n",
       "        [[255., 255., 255.],\n",
       "         [255., 255., 255.],\n",
       "         [255., 255., 255.],\n",
       "         ...,\n",
       "         [178., 184., 196.],\n",
       "         [252., 255., 255.],\n",
       "         [255., 255., 255.]],\n",
       "\n",
       "        ...,\n",
       "\n",
       "        [[197., 207., 232.],\n",
       "         [195., 206., 228.],\n",
       "         [188., 199., 221.],\n",
       "         ...,\n",
       "         [163., 163., 153.],\n",
       "         [166., 165., 147.],\n",
       "         [159., 154., 132.]],\n",
       "\n",
       "        [[206., 213., 232.],\n",
       "         [157., 165., 186.],\n",
       "         [191., 203., 225.],\n",
       "         ...,\n",
       "         [149., 144., 124.],\n",
       "         [153., 148., 119.],\n",
       "         [152., 143., 114.]],\n",
       "\n",
       "        [[201., 212., 232.],\n",
       "         [198., 209., 229.],\n",
       "         [205., 216., 236.],\n",
       "         ...,\n",
       "         [140., 128., 104.],\n",
       "         [146., 137., 108.],\n",
       "         [152., 135., 107.]]]], dtype=float32)"
      ]
     },
     "execution_count": 51,
     "metadata": {},
     "output_type": "execute_result"
    }
   ],
   "source": [
    "test_image"
   ]
  },
  {
   "cell_type": "code",
   "execution_count": 52,
   "metadata": {},
   "outputs": [],
   "source": [
    "prediction = classifier.predict(test_image)"
   ]
  },
  {
   "cell_type": "code",
   "execution_count": 53,
   "metadata": {},
   "outputs": [
    {
     "data": {
      "text/plain": [
       "{'cats': 0, 'dogs': 1}"
      ]
     },
     "execution_count": 53,
     "metadata": {},
     "output_type": "execute_result"
    }
   ],
   "source": [
    "training_set.class_indices"
   ]
  },
  {
   "cell_type": "code",
   "execution_count": 54,
   "metadata": {},
   "outputs": [],
   "source": [
    "if prediction == 1:\n",
    "    animal = 'Dog'\n",
    "else:\n",
    "    animal = 'Cat'"
   ]
  },
  {
   "cell_type": "code",
   "execution_count": 55,
   "metadata": {},
   "outputs": [
    {
     "data": {
      "text/plain": [
       "'Cat'"
      ]
     },
     "execution_count": 55,
     "metadata": {},
     "output_type": "execute_result"
    }
   ],
   "source": [
    "animal"
   ]
  },
  {
   "cell_type": "code",
   "execution_count": null,
   "metadata": {},
   "outputs": [],
   "source": []
  }
 ],
 "metadata": {
  "kernelspec": {
   "display_name": "Python 3",
   "language": "python",
   "name": "python3"
  },
  "language_info": {
   "codemirror_mode": {
    "name": "ipython",
    "version": 3
   },
   "file_extension": ".py",
   "mimetype": "text/x-python",
   "name": "python",
   "nbconvert_exporter": "python",
   "pygments_lexer": "ipython3",
   "version": "3.7.4"
  }
 },
 "nbformat": 4,
 "nbformat_minor": 2
}
